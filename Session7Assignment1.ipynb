{
 "cells": [
  {
   "cell_type": "code",
   "execution_count": 6,
   "metadata": {},
   "outputs": [
    {
     "name": "stdout",
     "output_type": "stream",
     "text": [
      "[  3   5   7   2   8  10  11  65  72  81  99 100 150]\n",
      "[5.0, 4.6669999999999998, 5.6669999999999998, 6.6669999999999998, 9.6669999999999998, 28.667000000000002, 49.332999999999998, 72.667000000000002, 84.0, 93.332999999999998, 116.333]\n"
     ]
    }
   ],
   "source": [
    "#Session 7 Assignment 1\n",
    "import numpy as np\n",
    "\n",
    "def movingaverage(arr,k): #Function Definition\n",
    "    length = len(arr)-k+1             \n",
    "    result = [round((sum(arr[n:n+k]))/k,3) for n in range(0,length)] #Creating \n",
    "    return result\n",
    "\n",
    "input = np.array([3, 5, 7, 2, 8, 10, 11, 65, 72, 81, 99, 100, 150]) \n",
    "k = 3\n",
    "\n",
    "mvarray = movingaverage(input,k)    \n",
    "print(input) #Original Array\n",
    "print(mvarray) #Moving Average array\n"
   ]
  },
  {
   "cell_type": "code",
   "execution_count": null,
   "metadata": {
    "collapsed": true
   },
   "outputs": [],
   "source": []
  },
  {
   "cell_type": "code",
   "execution_count": null,
   "metadata": {
    "collapsed": true
   },
   "outputs": [],
   "source": []
  }
 ],
 "metadata": {
  "kernelspec": {
   "display_name": "Python 3",
   "language": "python",
   "name": "python3"
  },
  "language_info": {
   "codemirror_mode": {
    "name": "ipython",
    "version": 3
   },
   "file_extension": ".py",
   "mimetype": "text/x-python",
   "name": "python",
   "nbconvert_exporter": "python",
   "pygments_lexer": "ipython3",
   "version": "3.6.3"
  }
 },
 "nbformat": 4,
 "nbformat_minor": 2
}
